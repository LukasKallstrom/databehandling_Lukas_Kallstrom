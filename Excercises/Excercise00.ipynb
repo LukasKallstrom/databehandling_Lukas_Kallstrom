{
 "cells": [
  {
   "cell_type": "code",
   "execution_count": 19,
   "metadata": {},
   "outputs": [],
   "source": [
    "import pandas as pd\n",
    "import numpy as np\n",
    "import seaborn as sns"
   ]
  },
  {
   "cell_type": "markdown",
   "metadata": {},
   "source": [
    "# 1. Cities in Sweden"
   ]
  },
  {
   "cell_type": "markdown",
   "metadata": {},
   "source": [
    "## Create dataframe"
   ]
  },
  {
   "cell_type": "code",
   "execution_count": 20,
   "metadata": {},
   "outputs": [],
   "source": [
    "cities = dict(Malmö=347949, Stockholm=975551, Uppsala=233839, Göteborg=583056)\n",
    "cities = {\"Cities\": [\"Malmö\", \"Stockholm\", \"Uppsala\", \"Göteborg\"],\n",
    "          \"Population\": [347949, 975551, 233839, 583056]}\n",
    "series_cities = pd.Series(cities)\n"
   ]
  },
  {
   "cell_type": "markdown",
   "metadata": {},
   "source": [
    "## Print dataframe"
   ]
  },
  {
   "cell_type": "code",
   "execution_count": 21,
   "metadata": {},
   "outputs": [
    {
     "name": "stdout",
     "output_type": "stream",
     "text": [
      "      Cities  Population\n",
      "0      Malmö      347949\n",
      "1  Stockholm      975551\n",
      "2    Uppsala      233839\n",
      "3   Göteborg      583056\n"
     ]
    }
   ],
   "source": [
    "df = pd.DataFrame(cities)\n",
    "print(df)"
   ]
  },
  {
   "cell_type": "markdown",
   "metadata": {},
   "source": [
    "## Print only \"Göteborg\""
   ]
  },
  {
   "cell_type": "code",
   "execution_count": 22,
   "metadata": {},
   "outputs": [
    {
     "data": {
      "text/html": [
       "<div>\n",
       "<style scoped>\n",
       "    .dataframe tbody tr th:only-of-type {\n",
       "        vertical-align: middle;\n",
       "    }\n",
       "\n",
       "    .dataframe tbody tr th {\n",
       "        vertical-align: top;\n",
       "    }\n",
       "\n",
       "    .dataframe thead th {\n",
       "        text-align: right;\n",
       "    }\n",
       "</style>\n",
       "<table border=\"1\" class=\"dataframe\">\n",
       "  <thead>\n",
       "    <tr style=\"text-align: right;\">\n",
       "      <th></th>\n",
       "      <th>Cities</th>\n",
       "      <th>Population</th>\n",
       "    </tr>\n",
       "  </thead>\n",
       "  <tbody>\n",
       "    <tr>\n",
       "      <th>3</th>\n",
       "      <td>Göteborg</td>\n",
       "      <td>583056</td>\n",
       "    </tr>\n",
       "  </tbody>\n",
       "</table>\n",
       "</div>"
      ],
      "text/plain": [
       "     Cities  Population\n",
       "3  Göteborg      583056"
      ]
     },
     "execution_count": 22,
     "metadata": {},
     "output_type": "execute_result"
    }
   ],
   "source": [
    "df.loc[df[\"Cities\"] == \"Göteborg\"]"
   ]
  },
  {
   "cell_type": "markdown",
   "metadata": {},
   "source": [
    "## Sort data by population"
   ]
  },
  {
   "cell_type": "code",
   "execution_count": 23,
   "metadata": {},
   "outputs": [
    {
     "data": {
      "text/html": [
       "<div>\n",
       "<style scoped>\n",
       "    .dataframe tbody tr th:only-of-type {\n",
       "        vertical-align: middle;\n",
       "    }\n",
       "\n",
       "    .dataframe tbody tr th {\n",
       "        vertical-align: top;\n",
       "    }\n",
       "\n",
       "    .dataframe thead th {\n",
       "        text-align: right;\n",
       "    }\n",
       "</style>\n",
       "<table border=\"1\" class=\"dataframe\">\n",
       "  <thead>\n",
       "    <tr style=\"text-align: right;\">\n",
       "      <th></th>\n",
       "      <th>Cities</th>\n",
       "      <th>Population</th>\n",
       "    </tr>\n",
       "  </thead>\n",
       "  <tbody>\n",
       "    <tr>\n",
       "      <th>1</th>\n",
       "      <td>Stockholm</td>\n",
       "      <td>975551</td>\n",
       "    </tr>\n",
       "    <tr>\n",
       "      <th>3</th>\n",
       "      <td>Göteborg</td>\n",
       "      <td>583056</td>\n",
       "    </tr>\n",
       "    <tr>\n",
       "      <th>0</th>\n",
       "      <td>Malmö</td>\n",
       "      <td>347949</td>\n",
       "    </tr>\n",
       "    <tr>\n",
       "      <th>2</th>\n",
       "      <td>Uppsala</td>\n",
       "      <td>233839</td>\n",
       "    </tr>\n",
       "  </tbody>\n",
       "</table>\n",
       "</div>"
      ],
      "text/plain": [
       "      Cities  Population\n",
       "1  Stockholm      975551\n",
       "3   Göteborg      583056\n",
       "0      Malmö      347949\n",
       "2    Uppsala      233839"
      ]
     },
     "execution_count": 23,
     "metadata": {},
     "output_type": "execute_result"
    }
   ],
   "source": [
    "df.sort_values(by=\"Population\", ascending=False)"
   ]
  },
  {
   "cell_type": "markdown",
   "metadata": {},
   "source": [
    "## Print only the 3 largest cities"
   ]
  },
  {
   "cell_type": "code",
   "execution_count": 24,
   "metadata": {},
   "outputs": [
    {
     "data": {
      "text/html": [
       "<div>\n",
       "<style scoped>\n",
       "    .dataframe tbody tr th:only-of-type {\n",
       "        vertical-align: middle;\n",
       "    }\n",
       "\n",
       "    .dataframe tbody tr th {\n",
       "        vertical-align: top;\n",
       "    }\n",
       "\n",
       "    .dataframe thead th {\n",
       "        text-align: right;\n",
       "    }\n",
       "</style>\n",
       "<table border=\"1\" class=\"dataframe\">\n",
       "  <thead>\n",
       "    <tr style=\"text-align: right;\">\n",
       "      <th></th>\n",
       "      <th>Cities</th>\n",
       "      <th>Population</th>\n",
       "    </tr>\n",
       "  </thead>\n",
       "  <tbody>\n",
       "    <tr>\n",
       "      <th>1</th>\n",
       "      <td>Stockholm</td>\n",
       "      <td>975551</td>\n",
       "    </tr>\n",
       "    <tr>\n",
       "      <th>3</th>\n",
       "      <td>Göteborg</td>\n",
       "      <td>583056</td>\n",
       "    </tr>\n",
       "    <tr>\n",
       "      <th>0</th>\n",
       "      <td>Malmö</td>\n",
       "      <td>347949</td>\n",
       "    </tr>\n",
       "  </tbody>\n",
       "</table>\n",
       "</div>"
      ],
      "text/plain": [
       "      Cities  Population\n",
       "1  Stockholm      975551\n",
       "3   Göteborg      583056\n",
       "0      Malmö      347949"
      ]
     },
     "execution_count": 24,
     "metadata": {},
     "output_type": "execute_result"
    }
   ],
   "source": [
    "df.sort_values(by=\"Population\", ascending=False)[0:3]"
   ]
  },
  {
   "cell_type": "code",
   "execution_count": 25,
   "metadata": {},
   "outputs": [
    {
     "data": {
      "text/html": [
       "<div>\n",
       "<style scoped>\n",
       "    .dataframe tbody tr th:only-of-type {\n",
       "        vertical-align: middle;\n",
       "    }\n",
       "\n",
       "    .dataframe tbody tr th {\n",
       "        vertical-align: top;\n",
       "    }\n",
       "\n",
       "    .dataframe thead th {\n",
       "        text-align: right;\n",
       "    }\n",
       "</style>\n",
       "<table border=\"1\" class=\"dataframe\">\n",
       "  <thead>\n",
       "    <tr style=\"text-align: right;\">\n",
       "      <th></th>\n",
       "      <th>Cities</th>\n",
       "      <th>Population</th>\n",
       "      <th>Population (%)</th>\n",
       "    </tr>\n",
       "  </thead>\n",
       "  <tbody>\n",
       "    <tr>\n",
       "      <th>0</th>\n",
       "      <td>Malmö</td>\n",
       "      <td>347949</td>\n",
       "      <td>3.352338</td>\n",
       "    </tr>\n",
       "    <tr>\n",
       "      <th>1</th>\n",
       "      <td>Stockholm</td>\n",
       "      <td>975551</td>\n",
       "      <td>9.399010</td>\n",
       "    </tr>\n",
       "    <tr>\n",
       "      <th>2</th>\n",
       "      <td>Uppsala</td>\n",
       "      <td>233839</td>\n",
       "      <td>2.252937</td>\n",
       "    </tr>\n",
       "    <tr>\n",
       "      <th>3</th>\n",
       "      <td>Göteborg</td>\n",
       "      <td>583056</td>\n",
       "      <td>5.617491</td>\n",
       "    </tr>\n",
       "  </tbody>\n",
       "</table>\n",
       "</div>"
      ],
      "text/plain": [
       "      Cities  Population  Population (%)\n",
       "0      Malmö      347949        3.352338\n",
       "1  Stockholm      975551        9.399010\n",
       "2    Uppsala      233839        2.252937\n",
       "3   Göteborg      583056        5.617491"
      ]
     },
     "execution_count": 25,
     "metadata": {},
     "output_type": "execute_result"
    }
   ],
   "source": [
    "df[\"Population (%)\"] = df[\"Population\"] / 10379295 * 100\n",
    "\n",
    "df"
   ]
  },
  {
   "cell_type": "markdown",
   "metadata": {},
   "source": [
    "# 2. Cities in Sweden"
   ]
  },
  {
   "cell_type": "code",
   "execution_count": 26,
   "metadata": {},
   "outputs": [
    {
     "data": {
      "text/html": [
       "<div>\n",
       "<style scoped>\n",
       "    .dataframe tbody tr th:only-of-type {\n",
       "        vertical-align: middle;\n",
       "    }\n",
       "\n",
       "    .dataframe tbody tr th {\n",
       "        vertical-align: top;\n",
       "    }\n",
       "\n",
       "    .dataframe thead th {\n",
       "        text-align: right;\n",
       "    }\n",
       "</style>\n",
       "<table border=\"1\" class=\"dataframe\">\n",
       "  <thead>\n",
       "    <tr style=\"text-align: right;\">\n",
       "      <th></th>\n",
       "      <th>Rang 2020</th>\n",
       "      <th>Rang 2019</th>\n",
       "      <th>Kommun</th>\n",
       "      <th>Folkmängd 2020</th>\n",
       "      <th>Folkmängd 2019</th>\n",
       "      <th>Förändring</th>\n",
       "    </tr>\n",
       "  </thead>\n",
       "  <tbody>\n",
       "    <tr>\n",
       "      <th>6</th>\n",
       "      <td>83</td>\n",
       "      <td>84.0</td>\n",
       "      <td>Ale</td>\n",
       "      <td>31868</td>\n",
       "      <td>31402.0</td>\n",
       "      <td>1.483982</td>\n",
       "    </tr>\n",
       "    <tr>\n",
       "      <th>7</th>\n",
       "      <td>64</td>\n",
       "      <td>64.0</td>\n",
       "      <td>Alingsås</td>\n",
       "      <td>41602</td>\n",
       "      <td>41420.0</td>\n",
       "      <td>0.439401</td>\n",
       "    </tr>\n",
       "    <tr>\n",
       "      <th>8</th>\n",
       "      <td>123</td>\n",
       "      <td>123.0</td>\n",
       "      <td>Alvesta</td>\n",
       "      <td>20224</td>\n",
       "      <td>20134.0</td>\n",
       "      <td>0.447005</td>\n",
       "    </tr>\n",
       "    <tr>\n",
       "      <th>9</th>\n",
       "      <td>255</td>\n",
       "      <td>255.0</td>\n",
       "      <td>Aneby</td>\n",
       "      <td>6821</td>\n",
       "      <td>6848.0</td>\n",
       "      <td>-0.394276</td>\n",
       "    </tr>\n",
       "    <tr>\n",
       "      <th>10</th>\n",
       "      <td>169</td>\n",
       "      <td>167.0</td>\n",
       "      <td>Arboga</td>\n",
       "      <td>14039</td>\n",
       "      <td>14087.0</td>\n",
       "      <td>-0.34074</td>\n",
       "    </tr>\n",
       "  </tbody>\n",
       "</table>\n",
       "</div>"
      ],
      "text/plain": [
       "   Rang 2020  Rang 2019    Kommun Folkmängd 2020  Folkmängd 2019 Förändring\n",
       "6         83       84.0       Ale          31868         31402.0   1.483982\n",
       "7         64       64.0  Alingsås          41602         41420.0   0.439401\n",
       "8        123      123.0   Alvesta          20224         20134.0   0.447005\n",
       "9        255      255.0     Aneby           6821          6848.0  -0.394276\n",
       "10       169      167.0    Arboga          14039         14087.0   -0.34074"
      ]
     },
     "execution_count": 26,
     "metadata": {},
     "output_type": "execute_result"
    }
   ],
   "source": [
    "import pandas as pd\n",
    "\n",
    "kommuner = pd.read_excel(\"../Data/komtopp50_2020.xlsx\", \"Totalt\")[6:]\n",
    "\n",
    "list_of_titles = (\"Rang 2020\", \"Rang 2019\", \"Kommun\",\n",
    "                  \"Folkmängd 2020\", \"Folkmängd 2019\", \"Förändring\")\n",
    "kommuner.columns = list_of_titles\n",
    "kommuner.head()\n"
   ]
  },
  {
   "cell_type": "markdown",
   "metadata": {},
   "source": [
    "## C. Sorted by population(large to small)"
   ]
  },
  {
   "cell_type": "code",
   "execution_count": 27,
   "metadata": {},
   "outputs": [
    {
     "data": {
      "text/html": [
       "<div>\n",
       "<style scoped>\n",
       "    .dataframe tbody tr th:only-of-type {\n",
       "        vertical-align: middle;\n",
       "    }\n",
       "\n",
       "    .dataframe tbody tr th {\n",
       "        vertical-align: top;\n",
       "    }\n",
       "\n",
       "    .dataframe thead th {\n",
       "        text-align: right;\n",
       "    }\n",
       "</style>\n",
       "<table border=\"1\" class=\"dataframe\">\n",
       "  <thead>\n",
       "    <tr style=\"text-align: right;\">\n",
       "      <th></th>\n",
       "      <th>Rang 2020</th>\n",
       "      <th>Rang 2019</th>\n",
       "      <th>Kommun</th>\n",
       "      <th>Folkmängd 2020</th>\n",
       "      <th>Folkmängd 2019</th>\n",
       "      <th>Förändring</th>\n",
       "    </tr>\n",
       "  </thead>\n",
       "  <tbody>\n",
       "    <tr>\n",
       "      <th>204</th>\n",
       "      <td>1</td>\n",
       "      <td>1.0</td>\n",
       "      <td>Stockholm</td>\n",
       "      <td>975551</td>\n",
       "      <td>974073.0</td>\n",
       "      <td>0.151734</td>\n",
       "    </tr>\n",
       "    <tr>\n",
       "      <th>63</th>\n",
       "      <td>2</td>\n",
       "      <td>2.0</td>\n",
       "      <td>Göteborg</td>\n",
       "      <td>583056</td>\n",
       "      <td>579281.0</td>\n",
       "      <td>0.65167</td>\n",
       "    </tr>\n",
       "    <tr>\n",
       "      <th>140</th>\n",
       "      <td>3</td>\n",
       "      <td>3.0</td>\n",
       "      <td>Malmö</td>\n",
       "      <td>347949</td>\n",
       "      <td>344166.0</td>\n",
       "      <td>1.099179</td>\n",
       "    </tr>\n",
       "    <tr>\n",
       "      <th>247</th>\n",
       "      <td>4</td>\n",
       "      <td>4.0</td>\n",
       "      <td>Uppsala</td>\n",
       "      <td>233839</td>\n",
       "      <td>230767.0</td>\n",
       "      <td>1.331213</td>\n",
       "    </tr>\n",
       "    <tr>\n",
       "      <th>130</th>\n",
       "      <td>5</td>\n",
       "      <td>5.0</td>\n",
       "      <td>Linköping</td>\n",
       "      <td>164616</td>\n",
       "      <td>163051.0</td>\n",
       "      <td>0.959822</td>\n",
       "    </tr>\n",
       "    <tr>\n",
       "      <th>...</th>\n",
       "      <td>...</td>\n",
       "      <td>...</td>\n",
       "      <td>...</td>\n",
       "      <td>...</td>\n",
       "      <td>...</td>\n",
       "      <td>...</td>\n",
       "    </tr>\n",
       "    <tr>\n",
       "      <th>277</th>\n",
       "      <td>286</td>\n",
       "      <td>286.0</td>\n",
       "      <td>Åsele</td>\n",
       "      <td>2805</td>\n",
       "      <td>2794.0</td>\n",
       "      <td>0.393701</td>\n",
       "    </tr>\n",
       "    <tr>\n",
       "      <th>11</th>\n",
       "      <td>287</td>\n",
       "      <td>287.0</td>\n",
       "      <td>Arjeplog</td>\n",
       "      <td>2718</td>\n",
       "      <td>2785.0</td>\n",
       "      <td>-2.405745</td>\n",
       "    </tr>\n",
       "    <tr>\n",
       "      <th>35</th>\n",
       "      <td>288</td>\n",
       "      <td>288.0</td>\n",
       "      <td>Dorotea</td>\n",
       "      <td>2498</td>\n",
       "      <td>2551.0</td>\n",
       "      <td>-2.077617</td>\n",
       "    </tr>\n",
       "    <tr>\n",
       "      <th>200</th>\n",
       "      <td>289</td>\n",
       "      <td>289.0</td>\n",
       "      <td>Sorsele</td>\n",
       "      <td>2442</td>\n",
       "      <td>2489.0</td>\n",
       "      <td>-1.888309</td>\n",
       "    </tr>\n",
       "    <tr>\n",
       "      <th>18</th>\n",
       "      <td>290</td>\n",
       "      <td>290.0</td>\n",
       "      <td>Bjurholm</td>\n",
       "      <td>2387</td>\n",
       "      <td>2408.0</td>\n",
       "      <td>-0.872093</td>\n",
       "    </tr>\n",
       "  </tbody>\n",
       "</table>\n",
       "<p>290 rows × 6 columns</p>\n",
       "</div>"
      ],
      "text/plain": [
       "    Rang 2020  Rang 2019     Kommun Folkmängd 2020  Folkmängd 2019 Förändring\n",
       "204         1        1.0  Stockholm         975551        974073.0   0.151734\n",
       "63          2        2.0   Göteborg         583056        579281.0    0.65167\n",
       "140         3        3.0      Malmö         347949        344166.0   1.099179\n",
       "247         4        4.0    Uppsala         233839        230767.0   1.331213\n",
       "130         5        5.0  Linköping         164616        163051.0   0.959822\n",
       "..        ...        ...        ...            ...             ...        ...\n",
       "277       286      286.0      Åsele           2805          2794.0   0.393701\n",
       "11        287      287.0   Arjeplog           2718          2785.0  -2.405745\n",
       "35        288      288.0    Dorotea           2498          2551.0  -2.077617\n",
       "200       289      289.0    Sorsele           2442          2489.0  -1.888309\n",
       "18        290      290.0   Bjurholm           2387          2408.0  -0.872093\n",
       "\n",
       "[290 rows x 6 columns]"
      ]
     },
     "execution_count": 27,
     "metadata": {},
     "output_type": "execute_result"
    }
   ],
   "source": [
    "kommuner.sort_values(by=\"Folkmängd 2020\", ascending=False)"
   ]
  },
  {
   "cell_type": "markdown",
   "metadata": {},
   "source": [
    "## d. Filter out the five smallest cities"
   ]
  },
  {
   "cell_type": "code",
   "execution_count": 28,
   "metadata": {},
   "outputs": [
    {
     "data": {
      "text/html": [
       "<div>\n",
       "<style scoped>\n",
       "    .dataframe tbody tr th:only-of-type {\n",
       "        vertical-align: middle;\n",
       "    }\n",
       "\n",
       "    .dataframe tbody tr th {\n",
       "        vertical-align: top;\n",
       "    }\n",
       "\n",
       "    .dataframe thead th {\n",
       "        text-align: right;\n",
       "    }\n",
       "</style>\n",
       "<table border=\"1\" class=\"dataframe\">\n",
       "  <thead>\n",
       "    <tr style=\"text-align: right;\">\n",
       "      <th></th>\n",
       "      <th>Rang 2020</th>\n",
       "      <th>Rang 2019</th>\n",
       "      <th>Kommun</th>\n",
       "      <th>Folkmängd 2020</th>\n",
       "      <th>Folkmängd 2019</th>\n",
       "      <th>Förändring</th>\n",
       "    </tr>\n",
       "  </thead>\n",
       "  <tbody>\n",
       "    <tr>\n",
       "      <th>18</th>\n",
       "      <td>290</td>\n",
       "      <td>290.0</td>\n",
       "      <td>Bjurholm</td>\n",
       "      <td>2387</td>\n",
       "      <td>2408.0</td>\n",
       "      <td>-0.872093</td>\n",
       "    </tr>\n",
       "    <tr>\n",
       "      <th>200</th>\n",
       "      <td>289</td>\n",
       "      <td>289.0</td>\n",
       "      <td>Sorsele</td>\n",
       "      <td>2442</td>\n",
       "      <td>2489.0</td>\n",
       "      <td>-1.888309</td>\n",
       "    </tr>\n",
       "    <tr>\n",
       "      <th>35</th>\n",
       "      <td>288</td>\n",
       "      <td>288.0</td>\n",
       "      <td>Dorotea</td>\n",
       "      <td>2498</td>\n",
       "      <td>2551.0</td>\n",
       "      <td>-2.077617</td>\n",
       "    </tr>\n",
       "    <tr>\n",
       "      <th>11</th>\n",
       "      <td>287</td>\n",
       "      <td>287.0</td>\n",
       "      <td>Arjeplog</td>\n",
       "      <td>2718</td>\n",
       "      <td>2785.0</td>\n",
       "      <td>-2.405745</td>\n",
       "    </tr>\n",
       "    <tr>\n",
       "      <th>277</th>\n",
       "      <td>286</td>\n",
       "      <td>286.0</td>\n",
       "      <td>Åsele</td>\n",
       "      <td>2805</td>\n",
       "      <td>2794.0</td>\n",
       "      <td>0.393701</td>\n",
       "    </tr>\n",
       "  </tbody>\n",
       "</table>\n",
       "</div>"
      ],
      "text/plain": [
       "    Rang 2020  Rang 2019    Kommun Folkmängd 2020  Folkmängd 2019 Förändring\n",
       "18        290      290.0  Bjurholm           2387          2408.0  -0.872093\n",
       "200       289      289.0   Sorsele           2442          2489.0  -1.888309\n",
       "35        288      288.0   Dorotea           2498          2551.0  -2.077617\n",
       "11        287      287.0  Arjeplog           2718          2785.0  -2.405745\n",
       "277       286      286.0     Åsele           2805          2794.0   0.393701"
      ]
     },
     "execution_count": 28,
     "metadata": {},
     "output_type": "execute_result"
    }
   ],
   "source": [
    "\n",
    "five_smallest = kommuner.sort_values(by=\"Folkmängd 2020\")[:5]\n",
    "five_smallest"
   ]
  },
  {
   "cell_type": "markdown",
   "metadata": {},
   "source": [
    "## e. Calculate Swedens population using df"
   ]
  },
  {
   "cell_type": "code",
   "execution_count": 29,
   "metadata": {},
   "outputs": [
    {
     "name": "stdout",
     "output_type": "stream",
     "text": [
      "Swedens population 2020: 10379295\n",
      "Swedens population 2019: 10327589\n"
     ]
    }
   ],
   "source": [
    "population = kommuner[\"Folkmängd 2020\"].sum()\n",
    "print(f\"Swedens population 2020: {population}\")\n",
    "\n",
    "population = kommuner[\"Folkmängd 2019\"].sum()\n",
    "print(f\"Swedens population 2019: {population:.0f}\")"
   ]
  },
  {
   "cell_type": "markdown",
   "metadata": {},
   "source": [
    "## f. Plot a bar chart for the five smallest and largest cities"
   ]
  },
  {
   "cell_type": "code",
   "execution_count": 30,
   "metadata": {},
   "outputs": [
    {
     "data": {
      "text/plain": [
       "Text(0.5, 1.0, 'Sveriges minsta kommuner')"
      ]
     },
     "execution_count": 30,
     "metadata": {},
     "output_type": "execute_result"
    },
    {
     "data": {
      "image/png": "[encoded data removed]",
      "text/plain": [
       "<Figure size 1080x288 with 2 Axes>"
      ]
     },
     "metadata": {
      "needs_background": "light"
     },
     "output_type": "display_data"
    }
   ],
   "source": [
    "import matplotlib.pyplot as plt\n",
    "import seaborn as sns\n",
    "\n",
    "\n",
    "fig, axes = plt.subplots(1,2, figsize=(15,4))\n",
    "\n",
    "stora_kommuner = kommuner.sort_values(by=\"Rang 2020\")[0:5]\n",
    "minsta_kommuner = kommuner.sort_values(by=\"Rang 2020\")[-6:-1]\n",
    "sns.barplot(ax=axes[0],data=stora_kommuner, x=\"Kommun\", y = \"Folkmängd 2020\")\n",
    "axes[0].set_title(\"Sveriges Största kommuner\")\n",
    "sns.barplot(ax=axes[1],data=minsta_kommuner, x=\"Kommun\", y = \"Folkmängd 2020\")\n",
    "axes[1].set_title(\"Sveriges minsta kommuner\")\n"
   ]
  },
  {
   "cell_type": "markdown",
   "metadata": {},
   "source": [
    "# 3. Cities in Sweden - Gender\n",
    "## A."
   ]
  },
  {
   "cell_type": "code",
   "execution_count": 35,
   "metadata": {},
   "outputs": [
    {
     "data": {
      "text/html": [
       "<div>\n",
       "<style scoped>\n",
       "    .dataframe tbody tr th:only-of-type {\n",
       "        vertical-align: middle;\n",
       "    }\n",
       "\n",
       "    .dataframe tbody tr th {\n",
       "        vertical-align: top;\n",
       "    }\n",
       "\n",
       "    .dataframe thead th {\n",
       "        text-align: right;\n",
       "    }\n",
       "</style>\n",
       "<table border=\"1\" class=\"dataframe\">\n",
       "  <thead>\n",
       "    <tr style=\"text-align: right;\">\n",
       "      <th></th>\n",
       "      <th>Rang 2020</th>\n",
       "      <th>Rang 2019</th>\n",
       "      <th>Kommun</th>\n",
       "      <th>Folkmängd 2020</th>\n",
       "      <th>Folkmängd 2019</th>\n",
       "      <th>Förändring</th>\n",
       "      <th>Kön</th>\n",
       "    </tr>\n",
       "  </thead>\n",
       "  <tbody>\n",
       "    <tr>\n",
       "      <th>6</th>\n",
       "      <td>81</td>\n",
       "      <td>83.0</td>\n",
       "      <td>Ale</td>\n",
       "      <td>16256</td>\n",
       "      <td>16054.0</td>\n",
       "      <td>1.258253</td>\n",
       "      <td>Män</td>\n",
       "    </tr>\n",
       "    <tr>\n",
       "      <th>7</th>\n",
       "      <td>64</td>\n",
       "      <td>64.0</td>\n",
       "      <td>Alingsås</td>\n",
       "      <td>20702</td>\n",
       "      <td>20646.0</td>\n",
       "      <td>0.271239</td>\n",
       "      <td>Män</td>\n",
       "    </tr>\n",
       "    <tr>\n",
       "      <th>8</th>\n",
       "      <td>122</td>\n",
       "      <td>123.0</td>\n",
       "      <td>Alvesta</td>\n",
       "      <td>10367</td>\n",
       "      <td>10339.0</td>\n",
       "      <td>0.270819</td>\n",
       "      <td>Män</td>\n",
       "    </tr>\n",
       "    <tr>\n",
       "      <th>9</th>\n",
       "      <td>255</td>\n",
       "      <td>255.0</td>\n",
       "      <td>Aneby</td>\n",
       "      <td>3503</td>\n",
       "      <td>3498.0</td>\n",
       "      <td>0.142939</td>\n",
       "      <td>Män</td>\n",
       "    </tr>\n",
       "    <tr>\n",
       "      <th>10</th>\n",
       "      <td>169</td>\n",
       "      <td>168.0</td>\n",
       "      <td>Arboga</td>\n",
       "      <td>7094</td>\n",
       "      <td>7114.0</td>\n",
       "      <td>-0.281136</td>\n",
       "      <td>Män</td>\n",
       "    </tr>\n",
       "  </tbody>\n",
       "</table>\n",
       "</div>"
      ],
      "text/plain": [
       "   Rang 2020  Rang 2019    Kommun Folkmängd 2020  Folkmängd 2019 Förändring  \\\n",
       "6         81       83.0       Ale          16256         16054.0   1.258253   \n",
       "7         64       64.0  Alingsås          20702         20646.0   0.271239   \n",
       "8        122      123.0   Alvesta          10367         10339.0   0.270819   \n",
       "9        255      255.0     Aneby           3503          3498.0   0.142939   \n",
       "10       169      168.0    Arboga           7094          7114.0  -0.281136   \n",
       "\n",
       "    Kön  \n",
       "6   Män  \n",
       "7   Män  \n",
       "8   Män  \n",
       "9   Män  \n",
       "10  Män  "
      ]
     },
     "execution_count": 35,
     "metadata": {},
     "output_type": "execute_result"
    }
   ],
   "source": [
    "import pandas as pd\n",
    "import seaborn as sns\n",
    "\n",
    "def import_data(data_file: str, sheet: str) -> pd.DataFrame:\n",
    "    temp_name = pd.read_excel(data_file, sheet)[6:]\n",
    "    list_of_titles = (\"Rang 2020\", \"Rang 2019\", \"Kommun\",\n",
    "                  \"Folkmängd 2020\", \"Folkmängd 2019\", \"Förändring\")\n",
    "    temp_name.columns = list_of_titles\n",
    "    temp_name[\"Kön\"] = sheet\n",
    "    return temp_name\n",
    "\n",
    "data_file = \"../Data/komtopp50_2020.xlsx\"\n",
    "kommuner_kvinnor = import_data(data_file, \"Kvinnor\")\n",
    "kommuner_man = import_data(data_file, \"Män\")\n",
    "\n",
    "kommuner_man.head()\n"
   ]
  },
  {
   "cell_type": "markdown",
   "metadata": {},
   "source": [
    "## B. Merge the Male and Female dataframes"
   ]
  },
  {
   "cell_type": "code",
   "execution_count": 45,
   "metadata": {},
   "outputs": [
    {
     "data": {
      "text/html": [
       "<div>\n",
       "<style scoped>\n",
       "    .dataframe tbody tr th:only-of-type {\n",
       "        vertical-align: middle;\n",
       "    }\n",
       "\n",
       "    .dataframe tbody tr th {\n",
       "        vertical-align: top;\n",
       "    }\n",
       "\n",
       "    .dataframe thead th {\n",
       "        text-align: right;\n",
       "    }\n",
       "</style>\n",
       "<table border=\"1\" class=\"dataframe\">\n",
       "  <thead>\n",
       "    <tr style=\"text-align: right;\">\n",
       "      <th></th>\n",
       "      <th>Rang 2020</th>\n",
       "      <th>Rang 2019</th>\n",
       "      <th>Folkmängd 2020</th>\n",
       "      <th>Folkmängd 2019</th>\n",
       "      <th>Förändring</th>\n",
       "      <th>Kön</th>\n",
       "    </tr>\n",
       "    <tr>\n",
       "      <th>Kommun</th>\n",
       "      <th></th>\n",
       "      <th></th>\n",
       "      <th></th>\n",
       "      <th></th>\n",
       "      <th></th>\n",
       "      <th></th>\n",
       "    </tr>\n",
       "  </thead>\n",
       "  <tbody>\n",
       "    <tr>\n",
       "      <th>Ale</th>\n",
       "      <td>81</td>\n",
       "      <td>83.0</td>\n",
       "      <td>16256</td>\n",
       "      <td>16054.0</td>\n",
       "      <td>1.258253</td>\n",
       "      <td>Män</td>\n",
       "    </tr>\n",
       "    <tr>\n",
       "      <th>Alingsås</th>\n",
       "      <td>64</td>\n",
       "      <td>64.0</td>\n",
       "      <td>20702</td>\n",
       "      <td>20646.0</td>\n",
       "      <td>0.271239</td>\n",
       "      <td>Män</td>\n",
       "    </tr>\n",
       "    <tr>\n",
       "      <th>Alvesta</th>\n",
       "      <td>122</td>\n",
       "      <td>123.0</td>\n",
       "      <td>10367</td>\n",
       "      <td>10339.0</td>\n",
       "      <td>0.270819</td>\n",
       "      <td>Män</td>\n",
       "    </tr>\n",
       "    <tr>\n",
       "      <th>Aneby</th>\n",
       "      <td>255</td>\n",
       "      <td>255.0</td>\n",
       "      <td>3503</td>\n",
       "      <td>3498.0</td>\n",
       "      <td>0.142939</td>\n",
       "      <td>Män</td>\n",
       "    </tr>\n",
       "    <tr>\n",
       "      <th>Arboga</th>\n",
       "      <td>169</td>\n",
       "      <td>168.0</td>\n",
       "      <td>7094</td>\n",
       "      <td>7114.0</td>\n",
       "      <td>-0.281136</td>\n",
       "      <td>Män</td>\n",
       "    </tr>\n",
       "    <tr>\n",
       "      <th>...</th>\n",
       "      <td>...</td>\n",
       "      <td>...</td>\n",
       "      <td>...</td>\n",
       "      <td>...</td>\n",
       "      <td>...</td>\n",
       "      <td>...</td>\n",
       "    </tr>\n",
       "    <tr>\n",
       "      <th>Österåker</th>\n",
       "      <td>55</td>\n",
       "      <td>57.0</td>\n",
       "      <td>22997</td>\n",
       "      <td>22442.0</td>\n",
       "      <td>2.473042</td>\n",
       "      <td>Kvinnor</td>\n",
       "    </tr>\n",
       "    <tr>\n",
       "      <th>Östhammar</th>\n",
       "      <td>117</td>\n",
       "      <td>118.0</td>\n",
       "      <td>10846</td>\n",
       "      <td>10803.0</td>\n",
       "      <td>0.398038</td>\n",
       "      <td>Kvinnor</td>\n",
       "    </tr>\n",
       "    <tr>\n",
       "      <th>Östra Göinge</th>\n",
       "      <td>160</td>\n",
       "      <td>159.0</td>\n",
       "      <td>7270</td>\n",
       "      <td>7262.0</td>\n",
       "      <td>0.110162</td>\n",
       "      <td>Kvinnor</td>\n",
       "    </tr>\n",
       "    <tr>\n",
       "      <th>Överkalix</th>\n",
       "      <td>284</td>\n",
       "      <td>284.0</td>\n",
       "      <td>1559</td>\n",
       "      <td>1578.0</td>\n",
       "      <td>-1.204056</td>\n",
       "      <td>Kvinnor</td>\n",
       "    </tr>\n",
       "    <tr>\n",
       "      <th>Övertorneå</th>\n",
       "      <td>279</td>\n",
       "      <td>279.0</td>\n",
       "      <td>2027</td>\n",
       "      <td>2065.0</td>\n",
       "      <td>-1.840194</td>\n",
       "      <td>Kvinnor</td>\n",
       "    </tr>\n",
       "  </tbody>\n",
       "</table>\n",
       "<p>580 rows × 6 columns</p>\n",
       "</div>"
      ],
      "text/plain": [
       "             Rang 2020  Rang 2019 Folkmängd 2020  Folkmängd 2019 Förändring  \\\n",
       "Kommun                                                                        \n",
       "Ale                 81       83.0          16256         16054.0   1.258253   \n",
       "Alingsås            64       64.0          20702         20646.0   0.271239   \n",
       "Alvesta            122      123.0          10367         10339.0   0.270819   \n",
       "Aneby              255      255.0           3503          3498.0   0.142939   \n",
       "Arboga             169      168.0           7094          7114.0  -0.281136   \n",
       "...                ...        ...            ...             ...        ...   \n",
       "Österåker           55       57.0          22997         22442.0   2.473042   \n",
       "Östhammar          117      118.0          10846         10803.0   0.398038   \n",
       "Östra Göinge       160      159.0           7270          7262.0   0.110162   \n",
       "Överkalix          284      284.0           1559          1578.0  -1.204056   \n",
       "Övertorneå         279      279.0           2027          2065.0  -1.840194   \n",
       "\n",
       "                  Kön  \n",
       "Kommun                 \n",
       "Ale               Män  \n",
       "Alingsås          Män  \n",
       "Alvesta           Män  \n",
       "Aneby             Män  \n",
       "Arboga            Män  \n",
       "...               ...  \n",
       "Österåker     Kvinnor  \n",
       "Östhammar     Kvinnor  \n",
       "Östra Göinge  Kvinnor  \n",
       "Överkalix     Kvinnor  \n",
       "Övertorneå    Kvinnor  \n",
       "\n",
       "[580 rows x 6 columns]"
      ]
     },
     "execution_count": 45,
     "metadata": {},
     "output_type": "execute_result"
    }
   ],
   "source": [
    "frames = [kommuner_man, kommuner_kvinnor]\n",
    "merged = pd.concat(frames)\n",
    "merged.set_index('Kommun')"
   ]
  }
 ],
 "metadata": {
  "interpreter": {
   "hash": "72051f9d7fa326aeed6359cfced189c8d504796f8dcd493f9163f5e75a9f85cf"
  },
  "kernelspec": {
   "display_name": "Python 3.9.6 64-bit ('databehandling_Lukas_Kallstrom-CpW1M07S': virtualenv)",
   "name": "python3"
  },
  "language_info": {
   "codemirror_mode": {
    "name": "ipython",
    "version": 3
   },
   "file_extension": ".py",
   "mimetype": "text/x-python",
   "name": "python",
   "nbconvert_exporter": "python",
   "pygments_lexer": "ipython3",
   "version": "3.9.6"
  },
  "orig_nbformat": 4
 },
 "nbformat": 4,
 "nbformat_minor": 2
}
